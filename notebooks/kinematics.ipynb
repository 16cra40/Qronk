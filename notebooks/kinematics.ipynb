{
 "cells": [
  {
   "cell_type": "markdown",
   "metadata": {},
   "source": [
    "# Kinematics of Qronk\n",
    "\n",
    "Qronk will have 12 degrees of freedom - 3 servo motors in each leg.\n",
    "\n",
    "To move the robot we will need to use inverse kinematics, which will allow us to determine the angle of the servo motors based on our desired locations. This will have to be done for two components to allow freedom in control. \n",
    "\n",
    "1. Chassis: find the displacement and rotation of the chassis first, to adjust centre of gravity.\n",
    "2. Feet: find the displacement of the feet, to move the robot forward.  \n",
    "\n",
    "For development, we will begin by focusing on creating the inverse kinematics of one leg to move a foot. Chassis will need to be figured out afterwards. \n"
   ]
  },
  {
   "cell_type": "code",
   "execution_count": 4,
   "metadata": {},
   "outputs": [],
   "source": [
    "# Import libraries\n",
    "import math\n",
    "import numpy as np\n",
    "import matplotlib.pyplot as plt\n",
    "import os\n",
    "\n",
    "# Load URDF model\n",
    "URDF_DIR = os.getcwd() + \"/../qronk_description/urdf/\"\n",
    "xacro_model = URDF_DIR + \"qronk.urdf.xacro\"\n",
    "urdf_model = !xacro {xacro_model}"
   ]
  },
  {
   "cell_type": "markdown",
   "metadata": {},
   "source": [
    "## Simplifying the model\n",
    "\n",
    "The leg will need to be simplified into links and joints. Measure the lengths of each links and store them as variables. "
   ]
  },
  {
   "cell_type": "code",
   "execution_count": null,
   "metadata": {},
   "outputs": [],
   "source": []
  },
  {
   "cell_type": "markdown",
   "metadata": {},
   "source": [
    "## Plotting the model\n",
    "\n",
    "To visualise the calculations, the model will need to be plotted. This can either be done in a 3d plot, or a pair of 2d plots (front and side views). Pair of 2d plots seem to be more functional, but testing both of them out may be beneficial. \n",
    "\n",
    "Making a function to create the plot for given angles of joints will be required. Making a slider to adjust joint angles may be helpful for testing purposes but likely unnecessary. \n"
   ]
  },
  {
   "cell_type": "code",
   "execution_count": null,
   "metadata": {},
   "outputs": [],
   "source": []
  },
  {
   "cell_type": "markdown",
   "metadata": {},
   "source": [
    "## Determining the workspace\n",
    "\n",
    "Calculating the workspace of the leg may be helpful for future calculations. This is the plot of all possible locations the foot can reach. To do so, joint angle limits will need to be determined (consider internal collisions and servo limits).  "
   ]
  },
  {
   "cell_type": "code",
   "execution_count": null,
   "metadata": {},
   "outputs": [],
   "source": []
  },
  {
   "cell_type": "markdown",
   "metadata": {},
   "source": [
    "## Calculating the inverse kinematics \n",
    "\n",
    "To calculate the inverse kinematics of the leg, basic trigonometry will be used. It will be easier to first perform this by hand and then implement it into this notebook. \n",
    "\n",
    "There also seems to be matrix methods available - if anyone finds more on this and find it applicable, we can discuss on using that instead to make the process faster. \n",
    "\n",
    "Some points to note before starting: \n",
    "- The angle of the joint connecting the hip and upper-leg will need to be determined first, as it provides the only out-of-plane movement.\n",
    "- There will be two solutions (or more?) for each location, due to the fact that two of the links share the links share the same plane. "
   ]
  },
  {
   "cell_type": "code",
   "execution_count": null,
   "metadata": {},
   "outputs": [],
   "source": []
  }
 ],
 "metadata": {
  "kernelspec": {
   "display_name": "Python 3",
   "language": "python",
   "name": "python3"
  },
  "language_info": {
   "codemirror_mode": {
    "name": "ipython",
    "version": 3
   },
   "file_extension": ".py",
   "mimetype": "text/x-python",
   "name": "python",
   "nbconvert_exporter": "python",
   "pygments_lexer": "ipython3",
   "version": "3.10.12"
  },
  "orig_nbformat": 4
 },
 "nbformat": 4,
 "nbformat_minor": 2
}
