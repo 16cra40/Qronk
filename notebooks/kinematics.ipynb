{
 "cells": [
  {
   "cell_type": "markdown",
   "metadata": {},
   "source": [
    "# Kinematics of Qronk\n",
    "\n",
    "Qronk will have 12 degrees of freedom - 3 servo motors in each leg.\n",
    "\n",
    "To move the robot we will need to use inverse kinematics, which will allow us to determine the angle of the servo motors based on our desired locations. This will have to be done for two components to allow freedom in control. \n",
    "\n",
    "1. Chassis: find the displacement and rotation of the chassis first, to adjust centre of gravity.\n",
    "2. Feet: find the displacement of the feet, to move the robot forward.  \n",
    "\n",
    "For development, we will begin by focusing on creating the inverse kinematics of one leg to move a foot. Chassis will need to be figured out afterwards. \n"
   ]
  },
  {
   "cell_type": "markdown",
   "metadata": {},
   "source": [
    "### To-do\n",
    "\n",
    "- Fix bug in inverseKinematics where x-coordinate of the foot is always 0 \n",
    "- Add raise errors for situations where forward/inverse kinematics are off limits\n",
    "- Combine foot trajectory into a walking gait motion (for all four legs)\n",
    "- Connect the resulting trajectory to qronk_pybullet as a function "
   ]
  },
  {
   "cell_type": "code",
   "execution_count": 1,
   "metadata": {},
   "outputs": [],
   "source": [
    "# Import libraries\n",
    "import os\n",
    "\n",
    "from numpy import pi, cos, sin, sqrt, arctan2, arccos, sign\n",
    "\n",
    "import numpy as np\n",
    "import matplotlib.pyplot as plt\n",
    "import matplotlib.animation as animation\n",
    "from mpl_toolkits import mplot3d\n",
    "\n",
    "\n",
    "# Load URDF model\n",
    "URDF_DIR = os.getcwd() + \"/../qronk_description/urdf/\"\n",
    "xacro_model = URDF_DIR + \"qronk.urdf.xacro\"\n",
    "urdf_model = !xacro {xacro_model}"
   ]
  },
  {
   "cell_type": "markdown",
   "metadata": {},
   "source": [
    "## Forward-Kinematics\n",
    "\n",
    "The forward kinematics is calculated based on the following diagram. Single leg kinematics will be done using the front-left leg of Qronk. Measurements are approximate, so re-measuring needs to be done on CAD. \n",
    "\n",
    "<img src=\"media/joint_diagram.png\" alt=\"joint_diagram\" width=\"500\"/>"
   ]
  },
  {
   "cell_type": "code",
   "execution_count": 2,
   "metadata": {},
   "outputs": [],
   "source": [
    "B = 0  # body to hip\n",
    "L1 = 3.5  # hip to upper-leg\n",
    "L2 = 10  # upper-leg to lower-leg\n",
    "L3 = 10  # lower-leg to foot\n",
    "\n",
    "\n",
    "def forwardKinematicsLeft(th1, th2, th3):\n",
    "    # Body to hip\n",
    "    T01_translation = np.array([[1, 0, 0, B], [0, 1, 0, 0], [0, 0, 1, 0], [0, 0, 0, 1]])\n",
    "    T01_rotation = np.array(\n",
    "        [\n",
    "            [1, 0, 0, 0],\n",
    "            [0, cos(th1), -sin(th1), 0],\n",
    "            [0, sin(th1), cos(th1), 0],\n",
    "            [0, 0, 0, 1],\n",
    "        ]\n",
    "    )\n",
    "    T01 = T01_translation @ T01_rotation\n",
    "\n",
    "    # Hip to upper-leg\n",
    "    T12_translation = np.array(\n",
    "        [[1, 0, 0, 0], [0, 1, 0, L1], [0, 0, 1, 0], [0, 0, 0, 1]]\n",
    "    )\n",
    "    T12_rotation = np.array(\n",
    "        [\n",
    "            [cos(th2), 0, sin(th2), 0],\n",
    "            [0, 1, 0, 0],\n",
    "            [-sin(th2), 0, cos(th2), 0],\n",
    "            [0, 0, 0, 1],\n",
    "        ]\n",
    "    )\n",
    "    T12 = T12_translation @ T12_rotation\n",
    "\n",
    "    # Upper-leg to lower-leg\n",
    "    T23_translation = np.array(\n",
    "        [[1, 0, 0, 0], [0, 1, 0, 0], [0, 0, 1, -L2], [0, 0, 0, 1]]\n",
    "    )\n",
    "    T23_rotation = np.array(\n",
    "        [\n",
    "            [cos(th3), 0, sin(th3), 0],\n",
    "            [0, 1, 0, 0],\n",
    "            [-sin(th3), 0, cos(th3), 0],\n",
    "            [0, 0, 0, 1],\n",
    "        ]\n",
    "    )\n",
    "    T23 = T23_translation @ T23_rotation\n",
    "\n",
    "    # Lower-leg to foot\n",
    "    T3e = np.array([[1, 0, 0, 0], [0, 1, 0, 0], [0, 0, 1, -L3], [0, 0, 0, 1]])\n",
    "\n",
    "    # Combine matrices to get end-effector pose\n",
    "    T01 = T01\n",
    "    T02 = T01 @ T12\n",
    "    T03 = T01 @ T12 @ T23\n",
    "    T0e = T01 @ T12 @ T23 @ T3e\n",
    "\n",
    "    # Get joint positions\n",
    "    J1 = T01[0:3, 3]\n",
    "    J2 = T02[0:3, 3]\n",
    "    J3 = T03[0:3, 3]\n",
    "    Je = T0e[0:3, 3]\n",
    "\n",
    "    JointPos = [J1, J2, J3, Je]\n",
    "    return JointPos\n",
    "\n",
    "\n",
    "def forwardKinematicsRight(th1, th2, th3):\n",
    "    # Body to hip\n",
    "    T01_translation = np.array([[1, 0, 0, B], [0, 1, 0, 0], [0, 0, 1, 0], [0, 0, 0, 1]])\n",
    "    T01_rotation = np.array(\n",
    "        [\n",
    "            [1, 0, 0, 0],\n",
    "            [0, cos(th1), -sin(th1), 0],\n",
    "            [0, sin(th1), cos(th1), 0],\n",
    "            [0, 0, 0, 1],\n",
    "        ]\n",
    "    )\n",
    "    T01 = T01_translation @ T01_rotation\n",
    "\n",
    "    # Hip to upper-leg\n",
    "    T12_translation = np.array(\n",
    "        [[1, 0, 0, 0], [0, 1, 0, -L1], [0, 0, 1, 0], [0, 0, 0, 1]]  # this is the only difference from Left\n",
    "    )\n",
    "    T12_rotation = np.array(\n",
    "        [\n",
    "            [cos(th2), 0, sin(th2), 0],\n",
    "            [0, 1, 0, 0],\n",
    "            [-sin(th2), 0, cos(th2), 0],\n",
    "            [0, 0, 0, 1],\n",
    "        ]\n",
    "    )\n",
    "    T12 = T12_translation @ T12_rotation\n",
    "\n",
    "    # Upper-leg to lower-leg\n",
    "    T23_translation = np.array(\n",
    "        [[1, 0, 0, 0], [0, 1, 0, 0], [0, 0, 1, -L2], [0, 0, 0, 1]]\n",
    "    )\n",
    "    T23_rotation = np.array(\n",
    "        [\n",
    "            [cos(th3), 0, sin(th3), 0],\n",
    "            [0, 1, 0, 0],\n",
    "            [-sin(th3), 0, cos(th3), 0],\n",
    "            [0, 0, 0, 1],\n",
    "        ]\n",
    "    )\n",
    "    T23 = T23_translation @ T23_rotation\n",
    "\n",
    "    # Lower-leg to foot\n",
    "    T3e = np.array([[1, 0, 0, 0], [0, 1, 0, 0], [0, 0, 1, -L3], [0, 0, 0, 1]])\n",
    "\n",
    "    # Combine matrices to get end-effector pose\n",
    "    T01 = T01\n",
    "    T02 = T01 @ T12\n",
    "    T03 = T01 @ T12 @ T23\n",
    "    T0e = T01 @ T12 @ T23 @ T3e\n",
    "\n",
    "    # Get joint positions\n",
    "    J1 = T01[0:3, 3]\n",
    "    J2 = T02[0:3, 3]\n",
    "    J3 = T03[0:3, 3]\n",
    "    Je = T0e[0:3, 3]\n",
    "\n",
    "    JointPos = [J1, J2, J3, Je]\n",
    "    return JointPos"
   ]
  },
  {
   "cell_type": "markdown",
   "metadata": {},
   "source": [
    "## Plotting the model\n",
    "\n",
    "To visualise the calculations, the model will need to be plotted. This can either be done in a 3d plot, or a pair of 2d plots (front and side views). Pair of 2d plots seem to be more functional, but testing both of them out may be beneficial. \n",
    "\n",
    "Making a function to create the plot for given angles of joints will be required. Making a slider to adjust joint angles may be helpful for testing purposes but likely unnecessary. \n"
   ]
  },
  {
   "cell_type": "code",
   "execution_count": 3,
   "metadata": {},
   "outputs": [
    {
     "data": {
      "image/png": "[encoded data removed]",
      "text/plain": [
       "<Figure size 1080x288 with 3 Axes>"
      ]
     },
     "metadata": {
      "needs_background": "light"
     },
     "output_type": "display_data"
    }
   ],
   "source": [
    "def plotLeg(JointPos):\n",
    "    \"\"\"Plots the leg in 3D space, given the joint positions in coordinates.\"\"\"\n",
    "\n",
    "    # unpack the joint positions\n",
    "    x, y, z = zip(*JointPos)\n",
    "\n",
    "    # create a figure\n",
    "    plt.figure(figsize=(15, 4))\n",
    "\n",
    "    # plot x-z plane (side-view)\n",
    "    plt.subplot(131)\n",
    "    plt.plot(x, z, \"b-\")\n",
    "    plt.scatter(x, z, color=\"red\")\n",
    "    plt.title(\"Side-view\")\n",
    "    plt.xlabel(\"x\")\n",
    "    plt.ylabel(\"z\")\n",
    "    plt.axis(\"square\")\n",
    "    plt.axis([-20, 20, -20, 20])\n",
    "\n",
    "    # plot y-z plane (front-view)\n",
    "    plt.subplot(132)\n",
    "    plt.plot(y, z, \"b-\")\n",
    "    plt.scatter(y, z, color=\"red\")\n",
    "    plt.title(\"Front-view\")\n",
    "    plt.xlabel(\"y\")\n",
    "    plt.ylabel(\"z\")\n",
    "    plt.axis(\"square\")\n",
    "    plt.axis([-20, 20, -20, 20])\n",
    "\n",
    "    # plot x-y plane (bottom-view)\n",
    "    plt.subplot(133)\n",
    "    plt.plot(y, x, \"b-\")\n",
    "    plt.scatter(y, x, color=\"red\")\n",
    "    plt.title(\"Bottom-view\")\n",
    "    plt.xlabel(\"y\")\n",
    "    plt.ylabel(\"x\")\n",
    "    plt.axis(\"square\")\n",
    "    plt.axis([-20, 20, -20, 20])\n",
    "\n",
    "    \"\"\"\n",
    "    Removed 3D view as it is hard to read\n",
    "\n",
    "    # plot 3D view\n",
    "    plt.subplot(144, projection=\"3d\")\n",
    "    plt.plot(x, y, z, \"b-\")\n",
    "    plt.title(\"3D view\")\n",
    "\n",
    "    plt.show()\n",
    "    \"\"\"\n",
    "\n",
    "\n",
    "# Plot an example leg with arbitrary joint positions (for testing)\n",
    "th1 = 0.5  # hip servo\n",
    "th2 = 0.2  # upper-leg servo\n",
    "th3 = -0.7  # lower-leg servo\n",
    "plotLeg(forwardKinematicsLeft(th1, th2, th3))"
   ]
  },
  {
   "cell_type": "markdown",
   "metadata": {},
   "source": [
    "## Calculating the inverse kinematics \n",
    "\n",
    "To calculate the inverse kinematics of the leg, basic trigonometry will be used. It will be easier to first perform this by hand and then implement it into this notebook. \n",
    "\n",
    "There also seems to be matrix methods available - if anyone finds more on this and find it applicable, we can discuss on using that instead to make the process faster. \n",
    "\n",
    "Some points to note before starting: \n",
    "- The angle of the joint connecting the hip and upper-leg will need to be determined first, as it provides the only out-of-plane movement.\n",
    "- There will be two solutions (or more?) for each location, due to the fact that two of the links share the links share the same plane. \n",
    "\n",
    "<img src=\"media/invkin1.jpg\" alt=\"invkin_1\" width=\"500\"/>\n",
    "<img src=\"media/invkin2.jpg\" alt=\"invkin_2\" width=\"500\"/>\n",
    "<img src=\"media/invkin3.jpg\" alt=\"invkin_3\" width=\"500\"/>\n",
    "<img src=\"media/invkin4.jpg\" alt=\"invkin_4\" width=\"500\"/>"
   ]
  },
  {
   "cell_type": "code",
   "execution_count": 4,
   "metadata": {},
   "outputs": [
    {
     "data": {
      "image/png": "[encoded data removed]",
      "text/plain": [
       "<Figure size 1080x288 with 3 Axes>"
      ]
     },
     "metadata": {
      "needs_background": "light"
     },
     "output_type": "display_data"
    },
    {
     "data": {
      "image/png": "[encoded data removed]",
      "text/plain": [
       "<Figure size 1080x288 with 3 Axes>"
      ]
     },
     "metadata": {
      "needs_background": "light"
     },
     "output_type": "display_data"
    }
   ],
   "source": [
    "def inverseKinematicsLeft(Je):\n",
    "    # Extract the x, y, z coordinates of the end effector position\n",
    "    x, y, z = Je\n",
    "\n",
    "    # Find th1 by considering the front view of the leg\n",
    "    d1yz = sqrt(y**2 + z**2)\n",
    "    a1 = abs(arccos(L1 / d1yz))\n",
    "    a2 = arctan2(z, y)\n",
    "    th1 = a1 + a2\n",
    "\n",
    "    # Find the required lengths from the 3D view\n",
    "    d1xyz = sqrt(x**2 + y**2 + z**2)\n",
    "    d2 = sqrt(d1xyz**2 - L1**2)\n",
    "    x_A, y_A, z_A = 0, L1*cos(th1), L1*sin(th1)\n",
    "    \n",
    "    # Find the required angle by considering the side view of the leg\n",
    "    a3 = arctan2((x_A - x), (z_A - z))\n",
    "\n",
    "    # Find th2 th3 by considering the plane of lower/upper leg\n",
    "    a4 = (d2**2 + L2**2 - L3**2)/(2*d2*L2)\n",
    "    th2 = a3 + a4\n",
    "    th3 = -2*a4\n",
    "\n",
    "    return th1, th2, th3\n",
    "\n",
    "def inverseKinematicsRight(Je):\n",
    "    # Extract the x, y, z coordinates of the end effector position\n",
    "    x, y, z = Je\n",
    "    y = -y\n",
    "\n",
    "    # Find th1 by considering the front view of the leg\n",
    "    d1yz = sqrt(y**2 + z**2)\n",
    "    a1 = abs(arccos(L1 / d1yz))\n",
    "    a2 = arctan2(z, y)\n",
    "    th1 = -(a1 + a2)\n",
    "\n",
    "    # Find the required lengths from the 3D view\n",
    "    d1xyz = sqrt(x**2 + y**2 + z**2)\n",
    "    d2 = sqrt(d1xyz**2 - L1**2)\n",
    "    x_A, y_A, z_A = 0, L1*cos(th1), L1*sin(th1)\n",
    "    \n",
    "    # Find the required angle by considering the side view of the leg\n",
    "    a3 = arctan2((x_A - x), (z_A - z))\n",
    "\n",
    "    # Find th2 th3 by considering the plane of lower/upper leg\n",
    "    a4 = (d2**2 + L2**2 - L3**2)/(2*d2*L2)\n",
    "    th2 = a3 + a4\n",
    "    th3 = -2*a4\n",
    "\n",
    "    return th1, th2, th3\n",
    "\n",
    "\n",
    "# Confirm that all left and right kinematics work correctly\n",
    "th1, th2, th3 = inverseKinematicsLeft((3, 5, -15))\n",
    "plotLeg(forwardKinematicsLeft(th1, th2, th3))\n",
    "\n",
    "\n",
    "th1, th2, th3 = inverseKinematicsRight((3, -5, -15))\n",
    "plotLeg(forwardKinematicsRight(th1, th2, th3))"
   ]
  },
  {
   "cell_type": "markdown",
   "metadata": {},
   "source": [
    "## Making a gait sequence of semi-circle path"
   ]
  },
  {
   "cell_type": "code",
   "execution_count": 5,
   "metadata": {},
   "outputs": [
    {
     "data": {
      "text/plain": [
       "(-0.25, 5.25, -15.124753341053534, -9.624753341053534)"
      ]
     },
     "execution_count": 5,
     "metadata": {},
     "output_type": "execute_result"
    },
    {
     "data": {
      "image/png": "[encoded data removed]",
      "text/plain": [
       "<Figure size 576x576 with 1 Axes>"
      ]
     },
     "metadata": {
      "needs_background": "light"
     },
     "output_type": "display_data"
    }
   ],
   "source": [
    "# Define gait parameters\n",
    "radius = 2.5  # radius of the circle\n",
    "period = 100  # number of frames per step\n",
    "swing_phase_ratio = 0.25  # percentage of period that foot is off the ground\n",
    "origin = (0, 3.5, -15) # origin of the circle\n",
    "\n",
    "def trajectory_semicircle(period, swing_phase_ratio, origin, radius=2.5):\n",
    "    \"\"\"Generates a semicircle trajectory for the foot.\n",
    "\n",
    "    Args:\n",
    "        period (int): Number of frames per step.\n",
    "        swing_phase_ratio (float): Percentage of period that foot is off the ground.\n",
    "        origin (tuple): Origin of the circle.\n",
    "        radius (int, optional): Radius of the circle. Defaults to 5.\n",
    "\n",
    "    Returns:\n",
    "        list: List of coordinates for the trajectory.\n",
    "    \"\"\"\n",
    "\n",
    "    swing_time = period * swing_phase_ratio\n",
    "    ground_time = period * (1 - swing_phase_ratio)\n",
    "    foot_coords = []\n",
    "    joint_angles = []\n",
    "\n",
    "    for t in range(period):\n",
    "        if t < swing_time:\n",
    "            x = origin[0] + radius - radius * cos(pi * t / swing_time)\n",
    "            y = origin[1]\n",
    "            z = origin[2] + radius * sin(pi * t / swing_time)\n",
    "        else:\n",
    "            x = origin[0] + radius + radius - 2 * radius * (t - swing_time) / ground_time\n",
    "            y = origin[1]\n",
    "            z = origin[2]\n",
    "        foot_coords.append((x, y, z))\n",
    "        joint_angles.append(inverseKinematicsLeft((x, y, z)))\n",
    "\n",
    "    return foot_coords, joint_angles\n",
    "\n",
    "# Plot the trajectory of the foot for testing \n",
    "foot_coords, joint_angles = trajectory_semicircle(period, swing_phase_ratio, origin)\n",
    "x, y, z = zip(*foot_coords)\n",
    "plt.figure(figsize=(8, 8))\n",
    "plt.plot(x, z, \"b-\")\n",
    "plt.scatter(x, z, color=\"red\")\n",
    "plt.title(\"Foot trajectory\")\n",
    "plt.axis(\"square\")"
   ]
  },
  {
   "cell_type": "markdown",
   "metadata": {},
   "source": [
    "## Making animation for gait sequence\n",
    "\n",
    "First, we will start with making the foot follow a semicircle path. Make a plot animation to show that the inverse kinematics works for this. \n",
    "\n",
    "Other projects seem to use a separate file system called .gait or something similar - should we consider doing something like this? We can first test using an array for just one leg, then decide whether such system will be necessary for gait sequences. "
   ]
  },
  {
   "cell_type": "code",
   "execution_count": 6,
   "metadata": {},
   "outputs": [],
   "source": [
    "JointPosArray = [forwardKinematicsLeft(*angles) for angles in joint_angles]"
   ]
  },
  {
   "cell_type": "markdown",
   "metadata": {},
   "source": [
    "## Determining the workspace\n",
    "\n",
    "Calculating the workspace of the leg may be helpful for future calculations. This is the plot of all possible locations the foot can reach. To do so, joint angle limits will need to be determined (consider internal collisions and servo limits).  "
   ]
  }
 ],
 "metadata": {
  "kernelspec": {
   "display_name": "Python 3",
   "language": "python",
   "name": "python3"
  },
  "language_info": {
   "codemirror_mode": {
    "name": "ipython",
    "version": 3
   },
   "file_extension": ".py",
   "mimetype": "text/x-python",
   "name": "python",
   "nbconvert_exporter": "python",
   "pygments_lexer": "ipython3",
   "version": "3.0.0"
  },
  "orig_nbformat": 4
 },
 "nbformat": 4,
 "nbformat_minor": 2
}
